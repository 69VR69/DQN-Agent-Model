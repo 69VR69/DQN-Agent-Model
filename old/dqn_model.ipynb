{
 "cells": [
  {
   "cell_type": "code",
   "execution_count": 1,
   "metadata": {},
   "outputs": [
    {
     "name": "stderr",
     "output_type": "stream",
     "text": [
      "C:\\Users\\afouq\\AppData\\Roaming\\Python\\Python39\\site-packages\\scipy\\__init__.py:177: UserWarning: A NumPy version >=1.18.5 and <1.26.0 is required for this version of SciPy (detected version 1.26.1\n",
      "  warnings.warn(f\"A NumPy version >={np_minversion} and <{np_maxversion}\"\n"
     ]
    }
   ],
   "source": [
    "#%pip install tensorflow\n",
    "import tensorflow as tf\n",
    "from environment import Environment\n",
    "import random\n",
    "import numpy as np"
   ]
  },
  {
   "cell_type": "markdown",
   "metadata": {},
   "source": [
    "#Actions\n",
    "* Move (up, right, down, left)\n",
    "* Rotation\n",
    "* Jump\n",
    "\n",
    "#Observations\n",
    "> lidar with following legend\n",
    "* 0 => background\n",
    "* 1 => goal\n",
    "* -1 => obstacles\n",
    "* -0.5 => walls\n",
    "\n",
    "#Reward\n",
    "* hit goal -> +10\n",
    "* hit obstacle -> -1\n",
    "* time's out -> -10\n",
    "\n",
    "#Episodes\n",
    ">Start => will Spawn agent and start timer\n",
    ">End => due to time's out or hit goal"
   ]
  },
  {
   "cell_type": "code",
   "execution_count": 2,
   "metadata": {},
   "outputs": [],
   "source": [
    "# Hyperparameters\n",
    "camera_shape = (3, 3, 3)\n",
    "input_shape = camera_shape[0] * camera_shape[1]* camera_shape[2]\n",
    "num_actions = 4 + 2 + 1 + 1 # 4 directions, 2 rotate, 1 jump, 1 wait\n",
    "\n",
    "# Model\n",
    "learning_rate = 0.001"
   ]
  },
  {
   "cell_type": "code",
   "execution_count": 3,
   "metadata": {},
   "outputs": [],
   "source": [
    "model = tf.keras.Sequential([\n",
    "    tf.keras.layers.Conv2D(8, (3, 3), activation='relu'),\n",
    "    tf.keras.layers.Flatten(),\n",
    "    tf.keras.layers.Dense(8, activation='relu', input_shape=(input_shape,)), # Input layer\n",
    "    tf.keras.layers.Dense(8, activation='relu'), # Hidden layer\n",
    "    tf.keras.layers.Dense(num_actions) # Output layer with num_actions neurons\n",
    "])"
   ]
  },
  {
   "cell_type": "code",
   "execution_count": 4,
   "metadata": {},
   "outputs": [],
   "source": [
    "def custom_loss(y_true, y_pred):\n",
    "    return tf.reduce_mean(tf.square(y_true - y_pred))"
   ]
  },
  {
   "cell_type": "code",
   "execution_count": 5,
   "metadata": {},
   "outputs": [],
   "source": [
    "optimizer = tf.keras.optimizers.Adam(learning_rate=learning_rate) # Adjust the learning rate as needed\n",
    "model.compile(optimizer=optimizer, loss=custom_loss)"
   ]
  },
  {
   "cell_type": "code",
   "execution_count": 6,
   "metadata": {},
   "outputs": [],
   "source": [
    "class ExperienceBuffer:\n",
    "    def __init__(self, max_size): # 5\n",
    "        self.buffer = []\n",
    "        self.max_size = max_size\n",
    "\n",
    "    def add(self, experience):\n",
    "        if len(self.buffer) >= self.max_size:\n",
    "            self.buffer.pop(0)\n",
    "        self.buffer.append(experience)\n",
    "\n",
    "    def sample_mini_batch(self, batch_size): # 2\n",
    "        return random.sample(self.buffer, batch_size)"
   ]
  },
  {
   "cell_type": "code",
   "execution_count": 7,
   "metadata": {},
   "outputs": [
    {
     "ename": "ValueError",
     "evalue": "You must provide an `input_shape` argument.",
     "output_type": "error",
     "traceback": [
      "\u001b[1;31m---------------------------------------------------------------------------\u001b[0m",
      "\u001b[1;31mValueError\u001b[0m                                Traceback (most recent call last)",
      "\u001b[1;32md:\\afouq\\documents\\Unity\\DQN-Agent-Model\\dqn_model.ipynb Cell 8\u001b[0m line \u001b[0;36m2\n\u001b[0;32m      <a href='vscode-notebook-cell:/d%3A/afouq/documents/Unity/DQN-Agent-Model/dqn_model.ipynb#X10sZmlsZQ%3D%3D?line=0'>1</a>\u001b[0m target_model \u001b[39m=\u001b[39m tf\u001b[39m.\u001b[39mkeras\u001b[39m.\u001b[39mmodels\u001b[39m.\u001b[39mclone_model(model)\n\u001b[1;32m----> <a href='vscode-notebook-cell:/d%3A/afouq/documents/Unity/DQN-Agent-Model/dqn_model.ipynb#X10sZmlsZQ%3D%3D?line=1'>2</a>\u001b[0m model\u001b[39m.\u001b[39;49mbuild()\n\u001b[0;32m      <a href='vscode-notebook-cell:/d%3A/afouq/documents/Unity/DQN-Agent-Model/dqn_model.ipynb#X10sZmlsZQ%3D%3D?line=2'>3</a>\u001b[0m target_model\u001b[39m.\u001b[39mset_weights(model\u001b[39m.\u001b[39mget_weights())\n",
      "File \u001b[1;32mc:\\Python39\\lib\\site-packages\\keras\\src\\engine\\sequential.py:371\u001b[0m, in \u001b[0;36mSequential.build\u001b[1;34m(self, input_shape)\u001b[0m\n\u001b[0;32m    369\u001b[0m \u001b[39melse\u001b[39;00m:\n\u001b[0;32m    370\u001b[0m     \u001b[39mif\u001b[39;00m input_shape \u001b[39mis\u001b[39;00m \u001b[39mNone\u001b[39;00m:\n\u001b[1;32m--> 371\u001b[0m         \u001b[39mraise\u001b[39;00m \u001b[39mValueError\u001b[39;00m(\u001b[39m\"\u001b[39m\u001b[39mYou must provide an `input_shape` argument.\u001b[39m\u001b[39m\"\u001b[39m)\n\u001b[0;32m    372\u001b[0m     \u001b[39mself\u001b[39m\u001b[39m.\u001b[39m_build_graph_network_for_inferred_shape(input_shape)\n\u001b[0;32m    373\u001b[0m     \u001b[39mif\u001b[39;00m \u001b[39mnot\u001b[39;00m \u001b[39mself\u001b[39m\u001b[39m.\u001b[39mbuilt:\n",
      "\u001b[1;31mValueError\u001b[0m: You must provide an `input_shape` argument."
     ]
    }
   ],
   "source": [
    "target_model = tf.keras.models.clone_model(model)\n",
    "target_model.set_weights(model.get_weights())"
   ]
  },
  {
   "cell_type": "code",
   "execution_count": null,
   "metadata": {},
   "outputs": [],
   "source": [
    "def update_target_network(target_model, model, tau): # tau = 0.5\n",
    "    target_weights = target_model.get_weights()\n",
    "    model_weights = model.get_weights()\n",
    "\n",
    "    for i in range(len(target_weights)):\n",
    "        target_weights[i] = tau * model_weights[i] + (1 - tau) * target_weights[i]\n",
    "\n",
    "    target_model.set_weights(target_weights)"
   ]
  },
  {
   "cell_type": "code",
   "execution_count": null,
   "metadata": {},
   "outputs": [],
   "source": [
    "# exploration stategy\n",
    "epsilon = 1.0\n",
    "epsilon_min = 0.01\n",
    "epsilon_decay = 0.995\n",
    "\n",
    "def get_action(state):\n",
    "    if random.random() < epsilon:\n",
    "        return random.randint(0, num_actions - 1)\n",
    "    else:\n",
    "        return tf.argmax(model.predict(state)[0]).numpy()"
   ]
  },
  {
   "cell_type": "code",
   "execution_count": null,
   "metadata": {},
   "outputs": [],
   "source": [
    "# Define hyperparameters\n",
    "epsilon = 0.1  # Exploration factor (adjust as needed)\n",
    "gamma = 0.99   # Discount factor\n",
    "batch_size = 32  # Mini-batch size\n",
    "max_buffer_size = 10000  # Maximum buffer size (adjust as needed)\n",
    "target_update_frequency = 100  # Frequency to update target network\n",
    "num_episodes = 1000  # Number of episodes to train\n",
    "\n",
    "# Initialize your experience replay buffer\n",
    "experience_buffer = ExperienceBuffer(max_buffer_size)\n",
    "\n",
    "# Initialize the environment\n",
    "env = Environment()"
   ]
  },
  {
   "cell_type": "code",
   "execution_count": null,
   "metadata": {},
   "outputs": [],
   "source": [
    "print(model.summary())\n",
    "model.predict(np.zeros((1, input_shape)))"
   ]
  },
  {
   "cell_type": "code",
   "execution_count": null,
   "metadata": {},
   "outputs": [],
   "source": [
    "env.start()\n",
    "\n",
    "# Training loop\n",
    "for episode in range(num_episodes):\n",
    "    state = env.reset()  # Reset the environment to start a new episode\n",
    "    episode_reward = 0\n",
    "    done = False\n",
    "\n",
    "    while not done:\n",
    "        # Choose an action using epsilon-greedy strategy\n",
    "        if random.uniform(0, 1) < epsilon:\n",
    "            action = random.randint(0, num_actions - 1)  # Random action\n",
    "        else:\n",
    "            # Use the Q-network to select the action with the highest Q-value\n",
    "            q_values = model.predict(state.reshape(1, -1))[0]\n",
    "            action = np.argmax(q_values)\n",
    "\n",
    "        # Execute the selected action in the environment\n",
    "        next_state, reward, done, _ = env.set_action(action)\n",
    "\n",
    "        # Store the experience in the replay buffer\n",
    "        experience_buffer.add((state, action, reward, next_state, done))\n",
    "\n",
    "        # Sample a mini-batch of experiences from the buffer\n",
    "        batch = experience_buffer.sample_mini_batch(batch_size)\n",
    "\n",
    "        # Compute target Q-values using the target network and Bellman equation\n",
    "        target_q_values = []\n",
    "        for sample in batch:\n",
    "            s, a, r, s_next, d = sample\n",
    "            if d:\n",
    "                target_q_values.append(r)  # If the episode is done, Q-value is the immediate reward\n",
    "            else:\n",
    "                target_q = r + gamma * np.max(target_model.predict(s_next.reshape(1, -1))[0])\n",
    "                target_q_values.append(target_q)\n",
    "\n",
    "        # Compute the loss and update the Q-network using backpropagation\n",
    "        states, actions, _, _, _ = zip(*batch)\n",
    "        target_q_values = np.array(target_q_values)\n",
    "        loss = model.train_on_batch(np.array(states), target_q_values)\n",
    "\n",
    "        episode_reward += reward\n",
    "        state = next_state\n",
    "\n",
    "        # Update the target network weights periodically\n",
    "        if episode % target_update_frequency == 0:\n",
    "            update_target_network(target_model, model, tau=0.5)  # Adjust tau as needed\n",
    "\n",
    "    print(f\"Episode: {episode}, Reward: {episode_reward}\")\n",
    "    env.stop()\n"
   ]
  }
 ],
 "metadata": {
  "kernelspec": {
   "display_name": "Python 3",
   "language": "python",
   "name": "python3"
  },
  "language_info": {
   "codemirror_mode": {
    "name": "ipython",
    "version": 3
   },
   "file_extension": ".py",
   "mimetype": "text/x-python",
   "name": "python",
   "nbconvert_exporter": "python",
   "pygments_lexer": "ipython3",
   "version": "3.9.2"
  }
 },
 "nbformat": 4,
 "nbformat_minor": 2
}
