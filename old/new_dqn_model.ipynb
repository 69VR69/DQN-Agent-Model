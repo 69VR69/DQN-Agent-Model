{
 "cells": [
  {
   "cell_type": "code",
   "execution_count": null,
   "metadata": {},
   "outputs": [],
   "source": [
    "# Imports\n",
    "from environment import Environment\n",
    "from dqn_agent import DQNAgent\n",
    "from training_loop import TrainingLoop"
   ]
  },
  {
   "cell_type": "code",
   "execution_count": null,
   "metadata": {},
   "outputs": [],
   "source": [
    "# Hyperparameters\n",
    "num_episodes = 1000 # how many episodes to train the agent for\n",
    "batch_size = 27 # how many experiences to use for each training step\n",
    "gamma = 0.99 # defines how much we care about future rewards\n",
    "state_size = 3*3*3 # 3x3x3 grid  \n",
    "action_size = 8 # 8 possible actions (Wait, Move Up, Move Down, Move Left, Move Right, Rotate Clockwise, Rotate CounterClockwise, Jump)"
   ]
  },
  {
   "cell_type": "code",
   "execution_count": null,
   "metadata": {},
   "outputs": [],
   "source": [
    "# Initialize the DQNAgent and EnvironmentInterface\n",
    "agent = DQNAgent(state_size, action_size)\n",
    "env_interface = Environment()\n",
    "env_interface.start()\n",
    "\n",
    "# Initialize the TrainingLoop\n",
    "training_loop = TrainingLoop(agent, env_interface, num_episodes, batch_size, gamma)"
   ]
  },
  {
   "cell_type": "code",
   "execution_count": null,
   "metadata": {},
   "outputs": [],
   "source": [
    "# Get the information about the neural network\n",
    "print(\"Neural Network Summary:\")\n",
    "agent.target_network.summary()"
   ]
  },
  {
   "cell_type": "code",
   "execution_count": null,
   "metadata": {},
   "outputs": [],
   "source": [
    "# Get the information about the environment\n",
    "print(\"Environment Information:\")\n",
    "env_interface.summary()"
   ]
  },
  {
   "cell_type": "code",
   "execution_count": null,
   "metadata": {},
   "outputs": [],
   "source": [
    "#train the agent\n",
    "training_loop.train_agent()"
   ]
  },
  {
   "cell_type": "code",
   "execution_count": null,
   "metadata": {},
   "outputs": [],
   "source": [
    "# Save the trained model\n",
    "training_loop.save_trained_model(\"dqn_model_final.pth\")\n",
    "\n",
    "env_interface.stop()"
   ]
  }
 ],
 "metadata": {
  "kernelspec": {
   "display_name": "Python 3",
   "language": "python",
   "name": "python3"
  },
  "language_info": {
   "codemirror_mode": {
    "name": "ipython",
    "version": 3
   },
   "file_extension": ".py",
   "mimetype": "text/x-python",
   "name": "python",
   "nbconvert_exporter": "python",
   "pygments_lexer": "ipython3",
   "version": "3.11.6"
  }
 },
 "nbformat": 4,
 "nbformat_minor": 2
}
