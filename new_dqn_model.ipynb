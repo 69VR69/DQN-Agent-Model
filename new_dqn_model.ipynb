{
 "cells": [
  {
   "cell_type": "code",
   "execution_count": 1,
   "metadata": {},
   "outputs": [],
   "source": [
    "# Imports\n",
    "from environment import Environment\n",
    "from dqn_agent import DQNAgent\n",
    "from training_loop import TrainingLoop"
   ]
  },
  {
   "cell_type": "code",
   "execution_count": 2,
   "metadata": {},
   "outputs": [],
   "source": [
    "# Hyperparameters\n",
    "num_episodes = 1000 # how many episodes to train the agent for\n",
    "batch_size = 27 # how many experiences to use for each training step\n",
    "gamma = 0.99 # defines how much we care about future rewards\n",
    "state_size = 3*3*3 # 3x3x3 grid  \n",
    "action_size = 8 # 8 possible actions (Wait, Move Up, Move Down, Move Left, Move Right, Rotate Clockwise, Rotate CounterClockwise, Jump)"
   ]
  },
  {
   "cell_type": "code",
   "execution_count": 3,
   "metadata": {},
   "outputs": [
    {
     "name": "stdout",
     "output_type": "stream",
     "text": [
      "server starting...\n",
      "connecting to server (127.0.0.1/8888)...\n",
      "connected to server\n"
     ]
    }
   ],
   "source": [
    "# Initialize the DQNAgent and EnvironmentInterface\n",
    "agent = DQNAgent(state_size, action_size)\n",
    "env_interface = Environment()\n",
    "env_interface.start()\n",
    "\n",
    "# Initialize the TrainingLoop\n",
    "training_loop = TrainingLoop(agent, env_interface, num_episodes, batch_size, gamma)"
   ]
  },
  {
   "cell_type": "code",
   "execution_count": 4,
   "metadata": {},
   "outputs": [
    {
     "name": "stdout",
     "output_type": "stream",
     "text": [
      "Neural Network Summary:\n",
      "QNetwork(\n",
      "  (fc1): Linear(in_features=27, out_features=27, bias=True)\n",
      "  (fc2): Linear(in_features=27, out_features=8, bias=True)\n",
      ")\n"
     ]
    }
   ],
   "source": [
    "# Get the information about the neural network\n",
    "print(\"Neural Network Summary:\")\n",
    "agent.target_network.summary()"
   ]
  },
  {
   "cell_type": "code",
   "execution_count": 5,
   "metadata": {},
   "outputs": [
    {
     "name": "stdout",
     "output_type": "stream",
     "text": [
      "Environment Information:\n",
      "received : 0:0,0,0,-1,0,0,-1,0,0;0,0,0,0,1,0,0,0,0;0,0,0,0,0,0,0,0,0;:0\n",
      "reward:  {'value': 0.0, 'shape': 1, 'type': \"<class 'float'>\"}\n",
      "state:  {'value': array([[ 0.,  0.,  0., -1.,  0.,  0., -1.,  0.,  0.,  0.,  0.,  0.,  0.,\n",
      "         1.,  0.,  0.,  0.,  0.,  0.,  0.,  0.,  0.,  0.,  0.,  0.,  0.,\n",
      "         0.]], dtype=float32), 'shape': (1, 27), 'type': 'float32'}\n",
      "done:  {'value': False, 'shape': 1, 'type': \"<class 'bool'>\"}\n"
     ]
    }
   ],
   "source": [
    "# Get the information about the environment\n",
    "print(\"Environment Information:\")\n",
    "env_interface.summary()"
   ]
  },
  {
   "cell_type": "code",
   "execution_count": 6,
   "metadata": {},
   "outputs": [
    {
     "name": "stdout",
     "output_type": "stream",
     "text": [
      "sending : reset\n",
      "received : 0:0,0,0,-1,0,0,-1,0,0;0,0,0,0,1,0,0,0,0;0,0,0,0,0,0,0,0,0;:0\n",
      "sending : set_action:WAIT\n",
      "received : 0:0,0,0,-1,0,0,-1,0,0;0,0,0,0,1,0,0,0,0;0,0,0,0,0,0,0,0,0;:0\n",
      "sending : set_action:MOVE_DOWN\n",
      "received : 0:0,0,0,-1,0,0,-1,0,0;0,0,0,0,1,0,0,0,0;0,0,0,0,0,0,0,0,0;:0\n",
      "sending : set_action:MOVE_UP\n",
      "received : 0:0,0,0,-1,0,0,-1,0,0;0,0,0,0,1,0,0,0,0;0,0,0,0,0,0,0,0,0;:0\n",
      "sending : set_action:MOVE_RiGHT\n",
      "received : 0:0,0,0,-1,0,0,-1,0,0;0,0,0,0,1,0,0,0,0;0,0,0,0,0,0,0,0,0;:0\n",
      "sending : set_action:JUMP\n",
      "received : 0:0,0,0,-1,0,0,-1,0,0;0,0,0,0,1,0,0,0,0;0,0,0,0,0,0,0,0,0;:0\n",
      "sending : set_action:MOVE_LEFT\n",
      "received : 0:0,0,0,-1,0,0,-1,0,0;0,0,0,0,1,0,0,0,0;0,0,0,0,0,0,0,0,0;:0\n",
      "sending : set_action:TURN_LEFT\n",
      "received : 0:0,0,0,-1,0,0,-1,0,0;0,0,0,0,1,0,0,0,0;0,0,0,0,0,0,0,0,0;:0\n",
      "sending : set_action:JUMP\n",
      "received : 0:0,0,0,-1,0,0,-1,0,0;0,0,0,0,1,0,0,0,0;0,0,0,0,0,0,0,0,0;:0\n",
      "sending : set_action:MOVE_UP\n",
      "received : 0:0,0,0,-1,0,0,-1,0,0;0,0,0,0,1,0,0,0,0;0,0,0,0,0,0,0,0,0;:0\n",
      "sending : set_action:TURN_RIGHT\n",
      "received : 0:0,0,0,-1,0,0,-1,0,0;0,0,0,0,1,0,0,0,0;0,0,0,0,0,0,0,0,0;:0\n",
      "sending : set_action:MOVE_LEFT\n",
      "received : 0:0,0,0,-1,0,0,-1,0,0;0,0,0,0,1,0,0,0,0;0,0,0,0,0,0,0,0,0;:0\n",
      "sending : set_action:MOVE_RiGHT\n",
      "received : 0:0,0,0,-1,0,0,-1,0,0;0,0,0,0,1,0,0,0,0;0,0,0,0,0,0,0,0,0;:0\n",
      "sending : set_action:MOVE_DOWN\n",
      "received : 0:0,0,0,-1,0,0,-1,0,0;0,0,0,0,1,0,0,0,0;0,0,0,0,0,0,0,0,0;:0\n",
      "sending : set_action:TURN_LEFT\n",
      "received : 0:0,0,0,-1,0,0,-1,0,0;0,0,0,0,1,0,0,0,0;0,0,0,0,0,0,0,0,0;:0\n",
      "sending : set_action:TURN_RIGHT\n",
      "received : 0:0,0,0,-1,0,0,-1,0,0;0,0,0,0,1,0,0,0,0;0,0,0,0,0,0,0,0,0;:0\n",
      "sending : set_action:JUMP\n",
      "received : 0:0,0,0,-1,0,0,-1,0,0;0,0,0,0,1,0,0,0,0;0,0,0,0,0,0,0,0,0;:0\n",
      "sending : set_action:WAIT\n",
      "received : 0:0,0,0,-1,0,0,-1,0,0;0,0,0,0,1,0,0,0,0;0,0,0,0,0,0,0,0,0;:0\n",
      "sending : set_action:TURN_LEFT\n",
      "received : 0:0,0,0,-1,0,0,-1,0,0;0,0,0,0,1,0,0,0,0;0,0,0,0,0,0,0,0,0;:0\n",
      "sending : set_action:MOVE_UP\n",
      "received : 0:0,0,0,-1,0,0,-1,0,0;0,0,0,0,1,0,0,0,0;0,0,0,0,0,0,0,0,0;:0\n",
      "sending : set_action:TURN_LEFT\n",
      "received : 0:0,0,0,-1,0,0,-1,0,0;0,0,0,0,1,0,0,0,0;0,0,0,0,0,0,0,0,0;:0\n",
      "sending : set_action:JUMP\n",
      "received : 0:0,0,0,-1,0,0,-1,0,0;0,0,0,0,1,0,0,0,0;0,0,0,0,0,0,0,0,0;:0\n",
      "sending : set_action:WAIT\n",
      "received : 0:0,0,0,-1,0,0,-1,0,0;0,0,0,0,1,0,0,0,0;0,0,0,0,0,0,0,0,0;:0\n",
      "sending : set_action:WAIT\n",
      "received : 0:0,0,0,-1,0,0,-1,0,0;0,0,0,0,1,0,0,0,0;0,0,0,0,0,0,0,0,0;:0\n",
      "sending : set_action:MOVE_RiGHT\n",
      "received : 0:0,0,0,-1,0,0,-1,0,0;0,0,0,0,1,0,0,0,0;0,0,0,0,0,0,0,0,0;:0\n",
      "sending : set_action:JUMP\n",
      "received : 0:0,0,0,-1,0,0,-1,0,0;0,0,0,0,1,0,0,0,0;0,0,0,0,0,0,0,0,0;:0\n",
      "sending : set_action:TURN_LEFT\n",
      "received : 0:0,0,0,-1,0,0,-1,0,0;0,0,0,0,1,0,0,0,0;0,0,0,0,0,0,0,0,0;:0\n",
      "sending : set_action:TURN_LEFT\n",
      "received : 0:0,0,0,-1,0,0,-1,0,0;0,0,0,0,1,0,0,0,0;0,0,0,0,0,0,0,0,0;:0\n",
      "dones :  (False, False, False, False, False, False, False, False, False, False, False, False, False, False, False, False, False, False, False, False, False, False, False, False, False, False, False)\n"
     ]
    },
    {
     "ename": "RuntimeError",
     "evalue": "Tensors must have same number of dimensions: got 1 and 3",
     "output_type": "error",
     "traceback": [
      "\u001b[1;31m---------------------------------------------------------------------------\u001b[0m",
      "\u001b[1;31mRuntimeError\u001b[0m                              Traceback (most recent call last)",
      "\u001b[1;32md:\\document\\Unity_Projects\\DQN Agent Model\\new_dqn_model.ipynb Cell 6\u001b[0m line \u001b[0;36m2\n\u001b[0;32m      <a href='vscode-notebook-cell:/d%3A/document/Unity_Projects/DQN%20Agent%20Model/new_dqn_model.ipynb#W5sZmlsZQ%3D%3D?line=0'>1</a>\u001b[0m \u001b[39m#train the agent\u001b[39;00m\n\u001b[1;32m----> <a href='vscode-notebook-cell:/d%3A/document/Unity_Projects/DQN%20Agent%20Model/new_dqn_model.ipynb#W5sZmlsZQ%3D%3D?line=1'>2</a>\u001b[0m training_loop\u001b[39m.\u001b[39;49mtrain_agent()\n",
      "File \u001b[1;32md:\\document\\Unity_Projects\\DQN Agent Model\\training_loop.py:26\u001b[0m, in \u001b[0;36mTrainingLoop.train_agent\u001b[1;34m(self)\u001b[0m\n\u001b[0;32m     23\u001b[0m         state \u001b[39m=\u001b[39m next_state\n\u001b[0;32m     24\u001b[0m         total_reward \u001b[39m+\u001b[39m\u001b[39m=\u001b[39m reward\n\u001b[1;32m---> 26\u001b[0m         \u001b[39mself\u001b[39;49m\u001b[39m.\u001b[39;49magent\u001b[39m.\u001b[39;49mtrain(\u001b[39mself\u001b[39;49m\u001b[39m.\u001b[39;49mbatch_size, \u001b[39mself\u001b[39;49m\u001b[39m.\u001b[39;49mgamma)\n\u001b[0;32m     28\u001b[0m     \u001b[39mprint\u001b[39m(\u001b[39mf\u001b[39m\u001b[39m\"\u001b[39m\u001b[39mEpisode \u001b[39m\u001b[39m{\u001b[39;00mepisode\u001b[39m}\u001b[39;00m\u001b[39m: Total Reward: \u001b[39m\u001b[39m{\u001b[39;00mtotal_reward\u001b[39m}\u001b[39;00m\u001b[39m\\n\u001b[39;00m\u001b[39m\"\u001b[39m)\n\u001b[0;32m     30\u001b[0m \u001b[39mself\u001b[39m\u001b[39m.\u001b[39magent\u001b[39m.\u001b[39msave_model(\u001b[39m\"\u001b[39m\u001b[39mdqn_model.pth\u001b[39m\u001b[39m\"\u001b[39m)\n",
      "File \u001b[1;32md:\\document\\Unity_Projects\\DQN Agent Model\\dqn_agent.py:39\u001b[0m, in \u001b[0;36mDQNAgent.train\u001b[1;34m(self, batch_size, gamma)\u001b[0m\n\u001b[0;32m     36\u001b[0m states, actions, rewards, next_states, dones \u001b[39m=\u001b[39m \u001b[39mzip\u001b[39m(\u001b[39m*\u001b[39mbatch)\n\u001b[0;32m     37\u001b[0m \u001b[39mprint\u001b[39m(\u001b[39m\"\u001b[39m\u001b[39mdones : \u001b[39m\u001b[39m\"\u001b[39m, dones)\n\u001b[1;32m---> 39\u001b[0m states \u001b[39m=\u001b[39m torch\u001b[39m.\u001b[39;49mcat(states)\n\u001b[0;32m     40\u001b[0m actions \u001b[39m=\u001b[39m torch\u001b[39m.\u001b[39mtensor(actions, dtype\u001b[39m=\u001b[39mtorch\u001b[39m.\u001b[39mlong)\n\u001b[0;32m     41\u001b[0m rewards \u001b[39m=\u001b[39m torch\u001b[39m.\u001b[39mtensor(rewards, dtype\u001b[39m=\u001b[39mtorch\u001b[39m.\u001b[39mfloat)\n",
      "\u001b[1;31mRuntimeError\u001b[0m: Tensors must have same number of dimensions: got 1 and 3"
     ]
    }
   ],
   "source": [
    "#train the agent\n",
    "training_loop.train_agent()"
   ]
  },
  {
   "cell_type": "code",
   "execution_count": null,
   "metadata": {},
   "outputs": [],
   "source": [
    "# Save the trained model\n",
    "training_loop.save_trained_model(\"dqn_model_final.pth\")\n",
    "\n",
    "env_interface.stop()"
   ]
  }
 ],
 "metadata": {
  "kernelspec": {
   "display_name": "Python 3",
   "language": "python",
   "name": "python3"
  },
  "language_info": {
   "codemirror_mode": {
    "name": "ipython",
    "version": 3
   },
   "file_extension": ".py",
   "mimetype": "text/x-python",
   "name": "python",
   "nbconvert_exporter": "python",
   "pygments_lexer": "ipython3",
   "version": "3.11.6"
  }
 },
 "nbformat": 4,
 "nbformat_minor": 2
}
