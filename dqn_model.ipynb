{
 "cells": [
  {
   "cell_type": "code",
   "execution_count": 1,
   "metadata": {},
   "outputs": [],
   "source": [
    "import tensorflow as tf\n",
    "from environment import Environment\n",
    "import random\n",
    "import numpy as np"
   ]
  },
  {
   "cell_type": "markdown",
   "metadata": {},
   "source": [
    "#Actions\n",
    "* Move (up, right, down, left)\n",
    "* Rotation\n",
    "* Jump\n",
    "\n",
    "#Observations\n",
    "> camera input with following legend\n",
    "* black => background\n",
    "* green => goal\n",
    "* red => obstacles\n",
    "* white => walls\n",
    "\n",
    "#Reward\n",
    "* hit goal -> +10\n",
    "* hit obstacle -> -1\n",
    "* time's out -> -10\n",
    "\n",
    "#Episodes\n",
    ">Start => will Spawn agent and start timer\n",
    ">End => due to time's out or hit goal"
   ]
  },
  {
   "cell_type": "code",
   "execution_count": 2,
   "metadata": {},
   "outputs": [],
   "source": [
    "# Hyperparameters\n",
    "camera_shape = (100, 100)\n",
    "input_shape = camera_shape[0] * camera_shape[1]\n",
    "num_actions = 4 + 2 + 1 # 4 directions, 2 rotate, 1 jump\n",
    "\n",
    "# Model\n",
    "learning_rate = 0.001"
   ]
  },
  {
   "cell_type": "code",
   "execution_count": 3,
   "metadata": {},
   "outputs": [],
   "source": [
    "model = tf.keras.Sequential([\n",
    "    tf.keras.layers.Dense(64, activation='relu', input_shape=(input_shape,)), # Input layer\n",
    "    tf.keras.layers.Dense(64, activation='relu'), # Hidden layer\n",
    "    tf.keras.layers.Dense(num_actions) # Output layer with num_actions neurons\n",
    "])"
   ]
  },
  {
   "cell_type": "code",
   "execution_count": 4,
   "metadata": {},
   "outputs": [],
   "source": [
    "def custom_loss(y_true, y_pred):\n",
    "    return tf.reduce_mean(tf.square(y_true - y_pred))"
   ]
  },
  {
   "cell_type": "code",
   "execution_count": 5,
   "metadata": {},
   "outputs": [],
   "source": [
    "optimizer = tf.keras.optimizers.Adam(learning_rate=learning_rate) # Adjust the learning rate as needed\n",
    "model.compile(optimizer=optimizer, loss=custom_loss)"
   ]
  },
  {
   "cell_type": "code",
   "execution_count": 6,
   "metadata": {},
   "outputs": [],
   "source": [
    "class ExperienceBuffer:\n",
    "    def __init__(self, max_size): # 5\n",
    "        self.buffer = []\n",
    "        self.max_size = max_size\n",
    "\n",
    "    def add(self, experience):\n",
    "        if len(self.buffer) >= self.max_size:\n",
    "            self.buffer.pop(0)\n",
    "        self.buffer.append(experience)\n",
    "\n",
    "    def sample_mini_batch(self, batch_size): # 2\n",
    "        return random.sample(self.buffer, batch_size)"
   ]
  },
  {
   "cell_type": "code",
   "execution_count": 7,
   "metadata": {},
   "outputs": [],
   "source": [
    "target_model = tf.keras.models.clone_model(model)\n",
    "target_model.set_weights(model.get_weights())"
   ]
  },
  {
   "cell_type": "code",
   "execution_count": 8,
   "metadata": {},
   "outputs": [],
   "source": [
    "def update_target_network(target_model, model, tau): # tau = 0.5\n",
    "    target_weights = target_model.get_weights()\n",
    "    model_weights = model.get_weights()\n",
    "\n",
    "    for i in range(len(target_weights)):\n",
    "        target_weights[i] = tau * model_weights[i] + (1 - tau) * target_weights[i]\n",
    "\n",
    "    target_model.set_weights(target_weights)"
   ]
  },
  {
   "cell_type": "code",
   "execution_count": 9,
   "metadata": {},
   "outputs": [],
   "source": [
    "# exploration stategy\n",
    "epsilon = 1.0\n",
    "epsilon_min = 0.01\n",
    "epsilon_decay = 0.995\n",
    "\n",
    "def get_action(state):\n",
    "    if random.random() < epsilon:\n",
    "        return random.randint(0, num_actions - 1)\n",
    "    else:\n",
    "        return tf.argmax(model.predict(state)[0]).numpy()"
   ]
  },
  {
   "cell_type": "code",
   "execution_count": 10,
   "metadata": {},
   "outputs": [],
   "source": [
    "# Define hyperparameters\n",
    "epsilon = 0.1  # Exploration factor (adjust as needed)\n",
    "gamma = 0.99   # Discount factor\n",
    "batch_size = 32  # Mini-batch size\n",
    "max_buffer_size = 10000  # Maximum buffer size (adjust as needed)\n",
    "target_update_frequency = 100  # Frequency to update target network\n",
    "num_episodes = 1000  # Number of episodes to train\n",
    "\n",
    "# Initialize your experience replay buffer\n",
    "experience_buffer = ExperienceBuffer(max_buffer_size)\n",
    "\n",
    "# Initialize the environment\n",
    "env = Environment()"
   ]
  },
  {
   "cell_type": "code",
   "execution_count": 11,
   "metadata": {},
   "outputs": [
    {
     "ename": "ConnectionRefusedError",
     "evalue": "[WinError 10061] No connection could be made because the target machine actively refused it",
     "output_type": "error",
     "traceback": [
      "\u001b[1;31m---------------------------------------------------------------------------\u001b[0m",
      "\u001b[1;31mConnectionRefusedError\u001b[0m                    Traceback (most recent call last)",
      "\u001b[1;32md:\\document\\Unity Projects\\DQN Agent Model\\dqn_model.ipynb Cell 12\u001b[0m line \u001b[0;36m1\n\u001b[1;32m----> <a href='vscode-notebook-cell:/d%3A/document/Unity%20Projects/DQN%20Agent%20Model/dqn_model.ipynb#X21sZmlsZQ%3D%3D?line=0'>1</a>\u001b[0m env\u001b[39m.\u001b[39;49mstart()\n\u001b[0;32m      <a href='vscode-notebook-cell:/d%3A/document/Unity%20Projects/DQN%20Agent%20Model/dqn_model.ipynb#X21sZmlsZQ%3D%3D?line=2'>3</a>\u001b[0m \u001b[39m# Training loop\u001b[39;00m\n\u001b[0;32m      <a href='vscode-notebook-cell:/d%3A/document/Unity%20Projects/DQN%20Agent%20Model/dqn_model.ipynb#X21sZmlsZQ%3D%3D?line=3'>4</a>\u001b[0m \u001b[39mfor\u001b[39;00m episode \u001b[39min\u001b[39;00m \u001b[39mrange\u001b[39m(num_episodes):\n",
      "File \u001b[1;32md:\\document\\Unity Projects\\DQN Agent Model\\environment.py:12\u001b[0m, in \u001b[0;36mEnvironment.start\u001b[1;34m(self)\u001b[0m\n\u001b[0;32m     11\u001b[0m \u001b[39mdef\u001b[39;00m \u001b[39mstart\u001b[39m(\u001b[39mself\u001b[39m):\n\u001b[1;32m---> 12\u001b[0m     \u001b[39mself\u001b[39;49m\u001b[39m.\u001b[39;49mserver_manager\u001b[39m.\u001b[39;49mstart()\n\u001b[0;32m     13\u001b[0m     \u001b[39mself\u001b[39m\u001b[39m.\u001b[39mreset()\n",
      "File \u001b[1;32md:\\document\\Unity Projects\\DQN Agent Model\\server_manager.py:15\u001b[0m, in \u001b[0;36mServerManager.start\u001b[1;34m(self)\u001b[0m\n\u001b[0;32m     13\u001b[0m \u001b[39mdef\u001b[39;00m \u001b[39mstart\u001b[39m(\u001b[39mself\u001b[39m):\n\u001b[0;32m     14\u001b[0m     \u001b[39mself\u001b[39m\u001b[39m.\u001b[39msocket \u001b[39m=\u001b[39m socket\u001b[39m.\u001b[39msocket(socket\u001b[39m.\u001b[39mAF_INET, socket\u001b[39m.\u001b[39mSOCK_STREAM)\n\u001b[1;32m---> 15\u001b[0m     \u001b[39mself\u001b[39;49m\u001b[39m.\u001b[39;49msocket\u001b[39m.\u001b[39;49mconnect((\u001b[39mself\u001b[39;49m\u001b[39m.\u001b[39;49mip, \u001b[39mself\u001b[39;49m\u001b[39m.\u001b[39;49mport))\n",
      "\u001b[1;31mConnectionRefusedError\u001b[0m: [WinError 10061] No connection could be made because the target machine actively refused it"
     ]
    }
   ],
   "source": [
    "env.start()\n",
    "\n",
    "# Training loop\n",
    "for episode in range(num_episodes):\n",
    "    state = env.reset()  # Reset the environment to start a new episode\n",
    "    episode_reward = 0\n",
    "\n",
    "    while not done:\n",
    "        # Choose an action using epsilon-greedy strategy\n",
    "        if random.uniform(0, 1) < epsilon:\n",
    "            action = random.randint(0, num_actions - 1)  # Random action\n",
    "        else:\n",
    "            # Use the Q-network to select the action with the highest Q-value\n",
    "            q_values = model.predict(state.reshape(1, -1))[0]\n",
    "            action = np.argmax(q_values)\n",
    "\n",
    "        # Execute the selected action in the environment\n",
    "        next_state, reward, done, _ = env.set_action(action)\n",
    "\n",
    "        # Store the experience in the replay buffer\n",
    "        experience_buffer.add((state, action, reward, next_state, done))\n",
    "\n",
    "        # Sample a mini-batch of experiences from the buffer\n",
    "        batch = experience_buffer.sample_mini_batch(batch_size)\n",
    "\n",
    "        # Compute target Q-values using the target network and Bellman equation\n",
    "        target_q_values = []\n",
    "        for sample in batch:\n",
    "            s, a, r, s_next, d = sample\n",
    "            if d:\n",
    "                target_q_values.append(r)  # If the episode is done, Q-value is the immediate reward\n",
    "            else:\n",
    "                target_q = r + gamma * np.max(target_model.predict(s_next.reshape(1, -1))[0])\n",
    "                target_q_values.append(target_q)\n",
    "\n",
    "        # Compute the loss and update the Q-network using backpropagation\n",
    "        states, actions, _, _, _ = zip(*batch)\n",
    "        target_q_values = np.array(target_q_values)\n",
    "        loss = model.train_on_batch(np.array(states), target_q_values)\n",
    "\n",
    "        episode_reward += reward\n",
    "        state = next_state\n",
    "\n",
    "        # Update the target network weights periodically\n",
    "        if episode % target_update_frequency == 0:\n",
    "            update_target_network(target_model, model, tau=0.5)  # Adjust tau as needed\n",
    "\n",
    "    print(f\"Episode: {episode}, Reward: {episode_reward}\")\n",
    "    env.stop()\n"
   ]
  }
 ],
 "metadata": {
  "kernelspec": {
   "display_name": "Python 3",
   "language": "python",
   "name": "python3"
  },
  "language_info": {
   "codemirror_mode": {
    "name": "ipython",
    "version": 3
   },
   "file_extension": ".py",
   "mimetype": "text/x-python",
   "name": "python",
   "nbconvert_exporter": "python",
   "pygments_lexer": "ipython3",
   "version": "3.11.6"
  }
 },
 "nbformat": 4,
 "nbformat_minor": 2
}
