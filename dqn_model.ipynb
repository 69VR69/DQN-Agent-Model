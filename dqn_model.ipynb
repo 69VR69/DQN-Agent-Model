{
 "cells": [
  {
   "cell_type": "code",
   "execution_count": 19,
   "metadata": {},
   "outputs": [],
   "source": [
    "import tensorflow as tf"
   ]
  },
  {
   "cell_type": "markdown",
   "metadata": {},
   "source": [
    "#Actions\n",
    "* Move (up, right, down, left)\n",
    "* Rotation\n",
    "* Jump\n",
    "\n",
    "#Observations\n",
    "> camera input with following legend\n",
    "* black => background\n",
    "* green => goal\n",
    "* red => obstacles\n",
    "* white => walls\n",
    "\n",
    "#Reward\n",
    "* hit goal -> +10\n",
    "* hit obstacle -> -1\n",
    "* time's out -> -10\n",
    "\n",
    "#Episodes\n",
    ">Start => will Spawn agent and start timer\n",
    ">End => due to time's out or hit goal"
   ]
  },
  {
   "cell_type": "code",
   "execution_count": 20,
   "metadata": {},
   "outputs": [],
   "source": [
    "# Hyperparameters\n",
    "camera_shape = (100, 100)\n",
    "input_shape = camera_shape[0] * camera_shape[1]\n",
    "num_actions = 4 + 2 + 1 # 4 directions, 2 rotate, 1 jump\n",
    "\n",
    "# Model\n",
    "learning_rate = 0.0001"
   ]
  },
  {
   "cell_type": "code",
   "execution_count": 21,
   "metadata": {},
   "outputs": [],
   "source": [
    "model = tf.keras.Sequential([\n",
    "    tf.keras.layers.Dense(64, activation='relu', input_shape=(input_shape,)), # Input layer\n",
    "    tf.keras.layers.Dense(64, activation='relu'), # Hidden layer\n",
    "    tf.keras.layers.Dense(num_actions) # Output layer with num_actions neurons\n",
    "])"
   ]
  },
  {
   "cell_type": "code",
   "execution_count": 22,
   "metadata": {},
   "outputs": [],
   "source": [
    "def custom_loss(y_true, y_pred):\n",
    "    return tf.reduce_mean(tf.square(y_true - y_pred))"
   ]
  },
  {
   "cell_type": "code",
   "execution_count": 23,
   "metadata": {},
   "outputs": [],
   "source": [
    "optimizer = tf.keras.optimizers.Adam(learning_rate=learning_rate) # Adjust the learning rate as needed\n",
    "model.compile(optimizer=optimizer, loss=custom_loss)"
   ]
  }
 ],
 "metadata": {
  "kernelspec": {
   "display_name": "Python 3",
   "language": "python",
   "name": "python3"
  },
  "language_info": {
   "codemirror_mode": {
    "name": "ipython",
    "version": 3
   },
   "file_extension": ".py",
   "mimetype": "text/x-python",
   "name": "python",
   "nbconvert_exporter": "python",
   "pygments_lexer": "ipython3",
   "version": "3.11.6"
  }
 },
 "nbformat": 4,
 "nbformat_minor": 2
}
